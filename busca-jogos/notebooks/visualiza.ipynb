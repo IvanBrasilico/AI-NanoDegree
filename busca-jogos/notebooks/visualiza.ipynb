{
 "cells": [
  {
   "cell_type": "code",
   "execution_count": 15,
   "metadata": {},
   "outputs": [],
   "source": [
    "%load_ext autoreload\n",
    "%autoreload 2\n",
    "import matplotlib.pyplot as plt\n",
    "import numpy as np\n",
    "from collections import defaultdict\n",
    "from random import randint\n",
    "\n",
    "\n",
    "from classes import ALTURAS, COLUNAS\n",
    "from classes.gerente import GerenteRemocao\n",
    "from classes.patio import Container, Pilha, Patio\n",
    "\n",
    "NCONTAINERS = 20000\n",
    "\n",
    "\n",
    "def gera_containers_transito(n=NCONTAINERS):\n",
    "    tempos =  np.random.normal(20, 5, NCONTAINERS)\n",
    "    containers_transito = [Container('{:05d}'.format(numero), tempos[i]) \n",
    "                       for i, numero in enumerate(range(1, NCONTAINERS))] \n",
    "    return containers_transito\n",
    "\n",
    "def gera_agendamento_containers(containers_transito, dias=30, qtdedia=200, erro=2):\n",
    "    agendamentos = defaultdict(list)\n",
    "    container_por_tempo = defaultdict(list)\n",
    "    for c in containers_transito:\n",
    "        container_por_tempo[int(c.time_to_leave)].append(c)\n",
    "    for dia in range(1, dias):\n",
    "        tempos_dia = np.random.normal(0, erro, qtdedia) + dia\n",
    "        for t in tempos_dia:\n",
    "            containers = container_por_tempo[int(t)]\n",
    "            if containers:\n",
    "                container_transito = containers.pop(randint(0, len(containers) - 1))\n",
    "                if container_transito:\n",
    "                    agendamentos[dia].append(container_transito)\n",
    "    return agendamentos\n",
    "        \n",
    "    "
   ]
  },
  {
   "cell_type": "code",
   "execution_count": 16,
   "metadata": {},
   "outputs": [
    {
     "name": "stdout",
     "output_type": "stream",
     "text": [
      "[00001, 00002, 00003, 00004, 00005, 00006, 00007, 00008, 00009, 00010]\n"
     ]
    },
    {
     "data": {
      "image/png": "[encoded data removed]",
      "text/plain": [
       "<Figure size 432x288 with 1 Axes>"
      ]
     },
     "metadata": {
      "needs_background": "light"
     },
     "output_type": "display_data"
    }
   ],
   "source": [
    "containers_transito = gera_containers_transito()\n",
    "plt.hist([c.time_to_leave for c in containers_transito])\n",
    "print(containers_transito[:10])"
   ]
  },
  {
   "cell_type": "code",
   "execution_count": 32,
   "metadata": {},
   "outputs": [
    {
     "name": "stdout",
     "output_type": "stream",
     "text": [
      "3781\n"
     ]
    },
    {
     "data": {
      "image/png": "[encoded data removed]",
      "text/plain": [
       "<Figure size 432x288 with 1 Axes>"
      ]
     },
     "metadata": {
      "needs_background": "light"
     },
     "output_type": "display_data"
    }
   ],
   "source": [
    "containers_agendados = gera_agendamento_containers(containers_transito)\n",
    "\n",
    "x = []\n",
    "y = []\n",
    "for dia, containers in containers_agendados.items():\n",
    "    for c in containers:\n",
    "        x.append(dia)\n",
    "        y.append(c.time_to_leave)\n",
    "    \n",
    "plt.scatter(x, y)\n",
    "print(len(x))"
   ]
  },
  {
   "cell_type": "code",
   "execution_count": 21,
   "metadata": {},
   "outputs": [
    {
     "name": "stdout",
     "output_type": "stream",
     "text": [
      "Add pilha 0001 \n",
      "A 1 None 00001\n"
     ]
    },
    {
     "data": {
      "text/plain": [
       "'A1'"
      ]
     },
     "execution_count": 21,
     "metadata": {},
     "output_type": "execute_result"
    }
   ],
   "source": [
    "patio = Patio()\n",
    "gerente = GerenteRemocao(patio)\n",
    "gerente.add_container(containers_transito[0])"
   ]
  },
  {
   "cell_type": "code",
   "execution_count": 22,
   "metadata": {},
   "outputs": [
    {
     "name": "stdout",
     "output_type": "stream",
     "text": [
      "OrderedDict([('0001', <classes.patio.Pilha object at 0x7f59b3cc36d8>)])\n"
     ]
    }
   ],
   "source": [
    "print(patio._pilhas)"
   ]
  },
  {
   "cell_type": "code",
   "execution_count": 23,
   "metadata": {},
   "outputs": [
    {
     "name": "stdout",
     "output_type": "stream",
     "text": [
      "('A', OrderedDict([('1', 00001), ('2', None), ('3', None), ('4', None), ('5', None)]))\n",
      "('B', OrderedDict([('1', None), ('2', None), ('3', None), ('4', None), ('5', None)]))\n",
      "('C', OrderedDict([('1', None), ('2', None), ('3', None), ('4', None), ('5', None)]))\n",
      "('D', OrderedDict([('1', None), ('2', None), ('3', None), ('4', None), ('5', None)]))\n",
      "('E', OrderedDict([('1', None), ('2', None), ('3', None), ('4', None), ('5', None)]))\n",
      "('F', OrderedDict([('1', None), ('2', None), ('3', None), ('4', None), ('5', None)]))\n"
     ]
    }
   ],
   "source": [
    "for coluna in patio._pilhas['0001']._pilha.items():\n",
    "    print(coluna)"
   ]
  },
  {
   "cell_type": "code",
   "execution_count": 24,
   "metadata": {},
   "outputs": [
    {
     "data": {
      "image/png": "[encoded data removed]",
      "text/plain": [
       "<Figure size 1080x360 with 1 Axes>"
      ]
     },
     "metadata": {
      "needs_background": "light"
     },
     "output_type": "display_data"
    }
   ],
   "source": [
    "from matplotlib.collections import PatchCollection\n",
    "from matplotlib.patches import Rectangle\n",
    "\n",
    "\n",
    "def plot_patio(patio):\n",
    "    fig = plt.figure(figsize=(15, 5))\n",
    "    ax = plt.subplot(111)\n",
    "    passo_x = 1 / len(COLUNAS)\n",
    "    passo_y = .8 / len(ALTURAS)\n",
    "    boxes = []\n",
    "    for c, coluna in enumerate(patio._pilhas['0001']._pilha.items()):\n",
    "        rect = Rectangle((passo_x * c, 0), passo_x*.9, .8)\n",
    "        boxes.append(rect)\n",
    "        posicao_x = passo_x * c\n",
    "        ax.text(passo_x * c + (passo_x /3), .9, coluna[0], fontsize=20)\n",
    "        for altura, container in coluna[1].items():\n",
    "            if container is not None:\n",
    "                posicao_y = passo_y * (int(altura) - 1) + .01\n",
    "                ax.text(posicao_x + .02, posicao_y + .02,\n",
    "                        container, fontsize=14)\n",
    "                rect = Rectangle((posicao_x + .01,\n",
    "                                  posicao_y),\n",
    "                                 passo_x * .7, .12)\n",
    "\n",
    "                boxes.append(rect)\n",
    "\n",
    "    pc = PatchCollection(boxes, edgecolor='r')\n",
    "    ax.add_collection(pc)\n",
    "plot_patio(patio)"
   ]
  },
  {
   "cell_type": "code",
   "execution_count": 25,
   "metadata": {},
   "outputs": [
    {
     "name": "stdout",
     "output_type": "stream",
     "text": [
      "Add pilha 0001 \n",
      "A 1 None 00001\n",
      "A 2 None 00002\n",
      "A 3 None 00003\n",
      "A 4 None 00004\n",
      "A 5 None 00005\n",
      "B 1 None 00006\n",
      "B 2 None 00007\n",
      "B 3 None 00008\n",
      "B 4 None 00009\n",
      "B 5 None 00010\n",
      "C 1 None 00011\n",
      "C 2 None 00012\n",
      "C 3 None 00013\n",
      "C 4 None 00014\n",
      "C 5 None 00015\n",
      "D 1 None 00016\n",
      "D 2 None 00017\n",
      "D 3 None 00018\n",
      "D 4 None 00019\n",
      "D 5 None 00020\n",
      "E 1 None 00021\n"
     ]
    },
    {
     "data": {
      "image/png": "[encoded data removed]",
      "text/plain": [
       "<Figure size 1080x360 with 1 Axes>"
      ]
     },
     "metadata": {
      "needs_background": "light"
     },
     "output_type": "display_data"
    }
   ],
   "source": [
    "patio = Patio()\n",
    "gerente = GerenteRemocao(patio)\n",
    "for i in range(21):\n",
    "    gerente.add_container(containers_transito[i])\n",
    "plot_patio(patio)"
   ]
  },
  {
   "cell_type": "code",
   "execution_count": 35,
   "metadata": {},
   "outputs": [
    {
     "name": "stdout",
     "output_type": "stream",
     "text": [
      "4380\n"
     ]
    },
    {
     "data": {
      "image/png": "[encoded data removed]",
      "text/plain": [
       "<Figure size 1080x360 with 1 Axes>"
      ]
     },
     "metadata": {
      "needs_background": "light"
     },
     "output_type": "display_data"
    }
   ],
   "source": [
    "containers_transito = gera_containers_transito()\n",
    "containers_agendados = gera_agendamento_containers(containers_transito)\n",
    "patio = Patio()\n",
    "gerente = GerenteRemocao(patio)\n",
    "qtde = 0\n",
    "for dia, containers in containers_agendados.items():\n",
    "    for c in containers:\n",
    "        qtde += 1\n",
    "        containers_transito.pop(containers_transito.index(c))\n",
    "        pilha = gerente.pilha_mesmo_tempo(c)\n",
    "        nome_pilha = None\n",
    "        if pilha:\n",
    "            nome_pilha = pilha._nome\n",
    "        gerente.add_container(c, nome_pilha)\n",
    "print(qtde)\n",
    "plot_patio(patio)"
   ]
  },
  {
   "cell_type": "code",
   "execution_count": 36,
   "metadata": {},
   "outputs": [
    {
     "data": {
      "text/plain": [
       "OrderedDict([('0001', <classes.patio.Pilha at 0x7f59b63dcd68>),\n",
       "             ('0002', <classes.patio.Pilha at 0x7f59b63dcc50>),\n",
       "             ('0003', <classes.patio.Pilha at 0x7f59b4203048>),\n",
       "             ('0004', <classes.patio.Pilha at 0x7f59b4163cc0>),\n",
       "             ('0005', <classes.patio.Pilha at 0x7f59b41637b8>),\n",
       "             ('0006', <classes.patio.Pilha at 0x7f59b40c4d68>),\n",
       "             ('0007', <classes.patio.Pilha at 0x7f59b40c4978>),\n",
       "             ('0008', <classes.patio.Pilha at 0x7f59b412c630>),\n",
       "             ('0009', <classes.patio.Pilha at 0x7f59b412c160>),\n",
       "             ('0010', <classes.patio.Pilha at 0x7f59b6591160>),\n",
       "             ('0011', <classes.patio.Pilha at 0x7f59b65913c8>),\n",
       "             ('0012', <classes.patio.Pilha at 0x7f59b67dc0f0>),\n",
       "             ('0013', <classes.patio.Pilha at 0x7f59b67dc0b8>),\n",
       "             ('0014', <classes.patio.Pilha at 0x7f59b67e8668>),\n",
       "             ('0015', <classes.patio.Pilha at 0x7f59b6615cc0>),\n",
       "             ('0016', <classes.patio.Pilha at 0x7f59b661ab38>),\n",
       "             ('0017', <classes.patio.Pilha at 0x7f59b661a780>),\n",
       "             ('0018', <classes.patio.Pilha at 0x7f59b635e048>),\n",
       "             ('0019', <classes.patio.Pilha at 0x7f59b6a84400>),\n",
       "             ('0020', <classes.patio.Pilha at 0x7f59b41a9748>),\n",
       "             ('0021', <classes.patio.Pilha at 0x7f59b41a9240>),\n",
       "             ('0022', <classes.patio.Pilha at 0x7f59b4101208>),\n",
       "             ('0023', <classes.patio.Pilha at 0x7f59b6414cf8>),\n",
       "             ('0024', <classes.patio.Pilha at 0x7f59b6414908>),\n",
       "             ('0025', <classes.patio.Pilha at 0x7f59b64b2080>),\n",
       "             ('0026', <classes.patio.Pilha at 0x7f59b64b2e48>),\n",
       "             ('0027', <classes.patio.Pilha at 0x7f59b3dfa5c0>),\n",
       "             ('0028', <classes.patio.Pilha at 0x7f59b3dfaf98>),\n",
       "             ('0029', <classes.patio.Pilha at 0x7f59b426b2e8>),\n",
       "             ('0030', <classes.patio.Pilha at 0x7f59e81a0780>),\n",
       "             ('0031', <classes.patio.Pilha at 0x7f59e81a0cf8>),\n",
       "             ('0032', <classes.patio.Pilha at 0x7f59b6631e10>),\n",
       "             ('0033', <classes.patio.Pilha at 0x7f59b65c6080>),\n",
       "             ('0034', <classes.patio.Pilha at 0x7f59b65c6d30>),\n",
       "             ('0035', <classes.patio.Pilha at 0x7f59b64642e8>),\n",
       "             ('0036', <classes.patio.Pilha at 0x7f59b64647f0>),\n",
       "             ('0037', <classes.patio.Pilha at 0x7f59b6a70400>),\n",
       "             ('0038', <classes.patio.Pilha at 0x7f59b6a70080>),\n",
       "             ('0039', <classes.patio.Pilha at 0x7f59b6691710>),\n",
       "             ('0040', <classes.patio.Pilha at 0x7f59b6691198>),\n",
       "             ('0041', <classes.patio.Pilha at 0x7f59b652c4e0>),\n",
       "             ('0042', <classes.patio.Pilha at 0x7f59b652c2b0>),\n",
       "             ('0043', <classes.patio.Pilha at 0x7f59b633a4e0>),\n",
       "             ('0044', <classes.patio.Pilha at 0x7f59b6655e48>),\n",
       "             ('0045', <classes.patio.Pilha at 0x7f59b6655da0>),\n",
       "             ('0046', <classes.patio.Pilha at 0x7f59b6a52cc0>),\n",
       "             ('0047', <classes.patio.Pilha at 0x7f59b3bd99b0>),\n",
       "             ('0048', <classes.patio.Pilha at 0x7f59b3bd9940>),\n",
       "             ('0049', <classes.patio.Pilha at 0x7f59b63b3320>),\n",
       "             ('0050', <classes.patio.Pilha at 0x7f59b63b3e10>),\n",
       "             ('0051', <classes.patio.Pilha at 0x7f59b647e630>),\n",
       "             ('0052', <classes.patio.Pilha at 0x7f59b64b0c50>),\n",
       "             ('0053', <classes.patio.Pilha at 0x7f59b64b06a0>),\n",
       "             ('0054', <classes.patio.Pilha at 0x7f59b6493780>),\n",
       "             ('0055', <classes.patio.Pilha at 0x7f59b6493a90>),\n",
       "             ('0056', <classes.patio.Pilha at 0x7f59b6492240>),\n",
       "             ('0057', <classes.patio.Pilha at 0x7f59b6492be0>),\n",
       "             ('0058', <classes.patio.Pilha at 0x7f59b64aa400>),\n",
       "             ('0059', <classes.patio.Pilha at 0x7f59b6495630>),\n",
       "             ('0060', <classes.patio.Pilha at 0x7f59b6495550>),\n",
       "             ('0061', <classes.patio.Pilha at 0x7f59b64b3da0>),\n",
       "             ('0062', <classes.patio.Pilha at 0x7f59b64b3a90>),\n",
       "             ('0063', <classes.patio.Pilha at 0x7f59b6490160>),\n",
       "             ('0064', <classes.patio.Pilha at 0x7f59b6490b70>),\n",
       "             ('0065', <classes.patio.Pilha at 0x7f59b658f1d0>),\n",
       "             ('0066', <classes.patio.Pilha at 0x7f59b658fc50>),\n",
       "             ('0067', <classes.patio.Pilha at 0x7f59b65b31d0>),\n",
       "             ('0068', <classes.patio.Pilha at 0x7f59b65b3e10>),\n",
       "             ('0069', <classes.patio.Pilha at 0x7f59b658e630>),\n",
       "             ('0070', <classes.patio.Pilha at 0x7f59b657b0f0>),\n",
       "             ('0071', <classes.patio.Pilha at 0x7f59b657ba20>),\n",
       "             ('0072', <classes.patio.Pilha at 0x7f59b65ae080>),\n",
       "             ('0073', <classes.patio.Pilha at 0x7f59b65ae9b0>),\n",
       "             ('0074', <classes.patio.Pilha at 0x7f59b6586710>),\n",
       "             ('0075', <classes.patio.Pilha at 0x7f59b6586c50>),\n",
       "             ('0076', <classes.patio.Pilha at 0x7f59b659a470>),\n",
       "             ('0077', <classes.patio.Pilha at 0x7f59b659aef0>),\n",
       "             ('0078', <classes.patio.Pilha at 0x7f59b65b52b0>),\n",
       "             ('0079', <classes.patio.Pilha at 0x7f59b659fc50>),\n",
       "             ('0080', <classes.patio.Pilha at 0x7f59b659f6a0>),\n",
       "             ('0081', <classes.patio.Pilha at 0x7f59b65b0550>),\n",
       "             ('0082', <classes.patio.Pilha at 0x7f59b65b0b70>),\n",
       "             ('0083', <classes.patio.Pilha at 0x7f59b658a1d0>),\n",
       "             ('0084', <classes.patio.Pilha at 0x7f59b658ad30>),\n",
       "             ('0085', <classes.patio.Pilha at 0x7f59b65810f0>),\n",
       "             ('0086', <classes.patio.Pilha at 0x7f59b6581cc0>),\n",
       "             ('0087', <classes.patio.Pilha at 0x7f59b65a12b0>),\n",
       "             ('0088', <classes.patio.Pilha at 0x7f59b657e320>),\n",
       "             ('0089', <classes.patio.Pilha at 0x7f59b657e780>),\n",
       "             ('0090', <classes.patio.Pilha at 0x7f59b65891d0>),\n",
       "             ('0091', <classes.patio.Pilha at 0x7f59b6589b70>),\n",
       "             ('0092', <classes.patio.Pilha at 0x7f59b65994e0>),\n",
       "             ('0093', <classes.patio.Pilha at 0x7f59b6599cc0>),\n",
       "             ('0094', <classes.patio.Pilha at 0x7f59b65981d0>),\n",
       "             ('0095', <classes.patio.Pilha at 0x7f59b6598be0>),\n",
       "             ('0096', <classes.patio.Pilha at 0x7f59b659d780>),\n",
       "             ('0097', <classes.patio.Pilha at 0x7f59b65b2160>),\n",
       "             ('0098', <classes.patio.Pilha at 0x7f59b65b27f0>),\n",
       "             ('0099', <classes.patio.Pilha at 0x7f59b65a8b70>),\n",
       "             ('0100', <classes.patio.Pilha at 0x7f59b65a8d30>),\n",
       "             ('0101', <classes.patio.Pilha at 0x7f59b65a0d30>),\n",
       "             ('0102', <classes.patio.Pilha at 0x7f59b65a0be0>),\n",
       "             ('0103', <classes.patio.Pilha at 0x7f59b65964e0>),\n",
       "             ('0104', <classes.patio.Pilha at 0x7f59b6596fd0>),\n",
       "             ('0105', <classes.patio.Pilha at 0x7f59b65a9400>),\n",
       "             ('0106', <classes.patio.Pilha at 0x7f59b65a4160>),\n",
       "             ('0107', <classes.patio.Pilha at 0x7f59b65a46a0>),\n",
       "             ('0108', <classes.patio.Pilha at 0x7f59b65abc50>),\n",
       "             ('0109', <classes.patio.Pilha at 0x7f59b65ab780>),\n",
       "             ('0110', <classes.patio.Pilha at 0x7f59b65901d0>),\n",
       "             ('0111', <classes.patio.Pilha at 0x7f59b6590da0>),\n",
       "             ('0112', <classes.patio.Pilha at 0x7f59b65b1400>),\n",
       "             ('0113', <classes.patio.Pilha at 0x7f59b65a67f0>),\n",
       "             ('0114', <classes.patio.Pilha at 0x7f59b65a65c0>),\n",
       "             ('0115', <classes.patio.Pilha at 0x7f59b659e8d0>),\n",
       "             ('0116', <classes.patio.Pilha at 0x7f59b659e630>),\n",
       "             ('0117', <classes.patio.Pilha at 0x7f59b6582e10>),\n",
       "             ('0118', <classes.patio.Pilha at 0x7f59b65829b0>),\n",
       "             ('0119', <classes.patio.Pilha at 0x7f59b6577c50>),\n",
       "             ('0120', <classes.patio.Pilha at 0x7f59b6577ba8>),\n",
       "             ('0121', <classes.patio.Pilha at 0x7f59b65a3ac8>),\n",
       "             ('0122', <classes.patio.Pilha at 0x7f59b65a3c18>),\n",
       "             ('0123', <classes.patio.Pilha at 0x7f59b6580f98>),\n",
       "             ('0124', <classes.patio.Pilha at 0x7f59b6580f60>),\n",
       "             ('0125', <classes.patio.Pilha at 0x7f59b652d438>),\n",
       "             ('0126', <classes.patio.Pilha at 0x7f59b6514080>),\n",
       "             ('0127', <classes.patio.Pilha at 0x7f59b6514940>),\n",
       "             ('0128', <classes.patio.Pilha at 0x7f59b6518908>),\n",
       "             ('0129', <classes.patio.Pilha at 0x7f59b65189e8>),\n",
       "             ('0130', <classes.patio.Pilha at 0x7f59b65231d0>),\n",
       "             ('0131', <classes.patio.Pilha at 0x7f59b6523fd0>),\n",
       "             ('0132', <classes.patio.Pilha at 0x7f59b6524550>),\n",
       "             ('0133', <classes.patio.Pilha at 0x7f59b651c160>),\n",
       "             ('0134', <classes.patio.Pilha at 0x7f59b651c940>),\n",
       "             ('0135', <classes.patio.Pilha at 0x7f59b64fc2e8>),\n",
       "             ('0136', <classes.patio.Pilha at 0x7f59b64fc7b8>),\n",
       "             ('0137', <classes.patio.Pilha at 0x7f59b6507160>),\n",
       "             ('0138', <classes.patio.Pilha at 0x7f59b6507780>),\n",
       "             ('0139', <classes.patio.Pilha at 0x7f59b6511278>),\n",
       "             ('0140', <classes.patio.Pilha at 0x7f59b6511f98>),\n",
       "             ('0141', <classes.patio.Pilha at 0x7f59b652aba8>),\n",
       "             ('0142', <classes.patio.Pilha at 0x7f59b651b780>),\n",
       "             ('0143', <classes.patio.Pilha at 0x7f59b651ba90>),\n",
       "             ('0144', <classes.patio.Pilha at 0x7f59b6506240>),\n",
       "             ('0145', <classes.patio.Pilha at 0x7f59b65065f8>),\n",
       "             ('0146', <classes.patio.Pilha at 0x7f59b64fa1d0>)])"
      ]
     },
     "execution_count": 36,
     "metadata": {},
     "output_type": "execute_result"
    }
   ],
   "source": [
    "gerente._patio._pilhas"
   ]
  },
  {
   "cell_type": "code",
   "execution_count": 38,
   "metadata": {},
   "outputs": [
    {
     "data": {
      "text/plain": [
       "146.0"
      ]
     },
     "execution_count": 38,
     "metadata": {},
     "output_type": "execute_result"
    }
   ],
   "source": [
    "qtde / 30"
   ]
  },
  {
   "cell_type": "code",
   "execution_count": 40,
   "metadata": {},
   "outputs": [
    {
     "name": "stdout",
     "output_type": "stream",
     "text": [
      "3.8129799678299165\n",
      "5.530751259503132\n",
      "6.868564750728361\n",
      "7.06797788246509\n",
      "8.513986349304519\n",
      "8.715437993730179\n",
      "8.24172337296764\n",
      "8.511237016462777\n",
      "9.415350138335283\n",
      "9.56697209159168\n",
      "9.681352322849694\n",
      "9.470321445182389\n",
      "10.184827813493001\n",
      "10.123452488887153\n",
      "9.70143775770081\n",
      "10.402045701877945\n",
      "10.03255836977103\n",
      "10.501108404958705\n",
      "10.929380811944776\n",
      "11.121811902300733\n",
      "11.165090855539859\n",
      "11.79645688372277\n",
      "12.051886439682255\n",
      "11.433855354063182\n",
      "10.983567970120268\n",
      "11.433817970912646\n",
      "11.817616712019603\n",
      "12.54916157114064\n",
      "12.297480382387192\n",
      "11.919822259934305\n",
      "11.883679683796762\n",
      "12.676981215863572\n",
      "12.826576879394613\n",
      "13.36919456001357\n",
      "13.064268552338973\n",
      "13.670838831713974\n",
      "13.425262397279859\n",
      "13.636864358494138\n",
      "13.628880505102844\n",
      "13.808362703797062\n",
      "13.73763819439916\n",
      "13.8818462109545\n",
      "14.347196458577626\n",
      "14.024120320711988\n",
      "13.588839905288877\n",
      "13.905636582814195\n",
      "15.16122612989837\n",
      "14.533706936794832\n",
      "14.52740686740874\n",
      "15.457306602422891\n",
      "14.361602136469767\n",
      "14.77026988735405\n",
      "15.514238479310452\n",
      "16.23505865659901\n",
      "15.975713778632926\n",
      "15.58618910433222\n",
      "15.944429771278843\n",
      "16.04621183589067\n",
      "17.142968901794884\n",
      "16.934582031633038\n",
      "16.783834366053934\n",
      "17.47797621489135\n",
      "17.216869036240574\n",
      "17.42121667260047\n",
      "16.21337573761554\n",
      "17.458335500188955\n",
      "18.206329865288414\n",
      "18.232089849198864\n",
      "18.531599790659467\n",
      "17.646982039658813\n",
      "18.35179667553687\n",
      "17.23419703788489\n",
      "18.572398968220106\n",
      "19.157481879128227\n",
      "19.462741239774054\n",
      "18.629888113293873\n",
      "19.172374698649175\n",
      "19.35139550062208\n",
      "19.453330098628452\n",
      "20.341025629719255\n",
      "20.222940869721306\n",
      "19.89466549724207\n",
      "19.61239483596326\n",
      "20.3799829004284\n",
      "19.678665939884418\n",
      "19.930123587022646\n",
      "20.549719099055025\n",
      "20.927357121199954\n",
      "21.42750104930625\n",
      "20.46499131841874\n",
      "21.675945667882306\n",
      "21.181642591102484\n",
      "21.48488126141086\n",
      "22.183189017699473\n",
      "21.634501163917157\n",
      "21.670879054092946\n",
      "22.32804652522717\n",
      "21.91332618284329\n",
      "22.105091616128863\n",
      "23.384429071903345\n",
      "23.153265152586563\n",
      "23.01687749079544\n",
      "22.810531117414328\n",
      "22.758997177978063\n",
      "22.56049291374952\n",
      "22.966806828602742\n",
      "24.093451672640278\n",
      "23.876379290636404\n",
      "23.528526462479977\n",
      "24.139625645952364\n",
      "23.923025097880213\n",
      "24.50361084308231\n",
      "24.01911167572762\n",
      "25.30505105917531\n",
      "24.785179879809284\n",
      "25.111243387779115\n",
      "24.53310343593001\n",
      "24.75250608502629\n",
      "25.069576452797786\n",
      "25.443858158831087\n",
      "26.44013112183203\n",
      "25.574228341375665\n",
      "25.84856524995244\n",
      "26.19341521856246\n",
      "26.49921443709683\n",
      "26.23005757935351\n",
      "26.834573733384957\n",
      "27.052878811270997\n",
      "26.775899527250047\n",
      "26.57364681868417\n",
      "27.361591591142126\n",
      "26.990740451364005\n",
      "26.803957515619267\n",
      "27.8073276350238\n",
      "28.626447389926305\n",
      "27.755694933087884\n",
      "27.625560373098228\n",
      "27.790028971725917\n",
      "27.819772051395468\n",
      "28.03659766972348\n",
      "29.11695067873588\n",
      "29.291329255261527\n",
      "28.697065233955055\n",
      "28.67756092505946\n",
      "29.692569018737252\n",
      "28.735329772999386\n"
     ]
    }
   ],
   "source": [
    "for pilha in gerente._patio._pilhas.values():\n",
    "    print(pilha.time_mean())"
   ]
  },
  {
   "cell_type": "code",
   "execution_count": null,
   "metadata": {},
   "outputs": [],
   "source": []
  }
 ],
 "metadata": {
  "kernelspec": {
   "display_name": "busca-venv",
   "language": "python",
   "name": "busca-venv"
  },
  "language_info": {
   "codemirror_mode": {
    "name": "ipython",
    "version": 3
   },
   "file_extension": ".py",
   "mimetype": "text/x-python",
   "name": "python",
   "nbconvert_exporter": "python",
   "pygments_lexer": "ipython3",
   "version": "3.6.8"
  }
 },
 "nbformat": 4,
 "nbformat_minor": 1
}
