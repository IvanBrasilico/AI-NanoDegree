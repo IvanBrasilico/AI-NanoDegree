{
 "cells": [
  {
   "cell_type": "code",
   "execution_count": 45,
   "metadata": {},
   "outputs": [],
   "source": [
    "import matplotlib.pyplot as plt\n",
    "import numpy as np\n",
    "from collections import defaultdict\n",
    "from random import randint\n",
    "\n",
    "\n",
    "from classes import ALTURAS, COLUNAS\n",
    "from classes.gerente import GerenteRemocao\n",
    "from classes.patio import Container, Pilha, Patio\n",
    "\n",
    "NCONTAINERS = 20000\n",
    "\n",
    "patio = Patio()\n",
    "gerente = GerenteRemocao(patio)\n",
    "def gera_containers_transito(n=NCONTAINERS):\n",
    "    tempos =  np.random.normal(20, 5, NCONTAINERS)\n",
    "    containers_transito = [Container('{:05d}'.format(numero), tempos[i]) \n",
    "                       for i, numero in enumerate(range(1, NCONTAINERS))] \n",
    "    return containers_transito\n",
    "\n",
    "def gera_agendamento_containers(containers_transito, dias=30, qtdedia=200, erro=2):\n",
    "    agendamentos = defaultdict(list)\n",
    "    container_por_tempo = defaultdict(list)\n",
    "    for c in containers_transito:\n",
    "        container_por_tempo[int(c.time_to_leave)].append(c)\n",
    "    for dia in range(1, dias):\n",
    "        tempos_dia = np.random.normal(0, erro, qtdedia) + dia\n",
    "        for t in tempos_dia:\n",
    "            containers = container_por_tempo[int(t)]\n",
    "            if containers:\n",
    "                container_transito = containers.pop(randint(0, len(containers) - 1))\n",
    "                if container_transito:\n",
    "                    agendamentos[dia].append(container_transito)\n",
    "    return agendamentos\n",
    "        \n",
    "    "
   ]
  },
  {
   "cell_type": "code",
   "execution_count": 46,
   "metadata": {},
   "outputs": [
    {
     "name": "stdout",
     "output_type": "stream",
     "text": [
      "[00001, 00002, 00003, 00004, 00005, 00006, 00007, 00008, 00009, 00010]\n"
     ]
    },
    {
     "data": {
      "image/png": "[encoded data removed]",
      "text/plain": [
       "<Figure size 432x288 with 1 Axes>"
      ]
     },
     "metadata": {
      "needs_background": "light"
     },
     "output_type": "display_data"
    }
   ],
   "source": [
    "containers_transito = gera_containers_transito()\n",
    "plt.hist([c.time_to_leave for c in containers_transito])\n",
    "print(containers_transito[:10])"
   ]
  },
  {
   "cell_type": "code",
   "execution_count": 49,
   "metadata": {},
   "outputs": [
    {
     "data": {
      "text/plain": [
       "<matplotlib.collections.PathCollection at 0x7f11a1124278>"
      ]
     },
     "execution_count": 49,
     "metadata": {},
     "output_type": "execute_result"
    },
    {
     "data": {
      "image/png": "[encoded data removed]",
      "text/plain": [
       "<Figure size 432x288 with 1 Axes>"
      ]
     },
     "metadata": {
      "needs_background": "light"
     },
     "output_type": "display_data"
    }
   ],
   "source": [
    "containers_agendados = gera_agendamento_containers(containers_transito)\n",
    "\n",
    "x = []\n",
    "y = []\n",
    "for dia, containers in containers_agendados.items():\n",
    "    for c in containers:\n",
    "        x.append(dia)\n",
    "        y.append(c.time_to_leave)\n",
    "    \n",
    "plt.scatter(x, y)"
   ]
  },
  {
   "cell_type": "code",
   "execution_count": 48,
   "metadata": {},
   "outputs": [
    {
     "data": {
      "text/plain": [
       "'A1'"
      ]
     },
     "execution_count": 48,
     "metadata": {},
     "output_type": "execute_result"
    }
   ],
   "source": [
    "gerente.add_container(containers_transito[0])"
   ]
  },
  {
   "cell_type": "code",
   "execution_count": 4,
   "metadata": {},
   "outputs": [
    {
     "name": "stdout",
     "output_type": "stream",
     "text": [
      "OrderedDict([('0001', <classes.patio.Pilha object at 0x7f11a2b05ba8>)])\n"
     ]
    }
   ],
   "source": [
    "print(patio._pilhas)"
   ]
  },
  {
   "cell_type": "code",
   "execution_count": 5,
   "metadata": {},
   "outputs": [
    {
     "name": "stdout",
     "output_type": "stream",
     "text": [
      "('A', OrderedDict([('1', 00001), ('2', None), ('3', None), ('4', None), ('5', None)]))\n",
      "('B', OrderedDict([('1', None), ('2', None), ('3', None), ('4', None), ('5', None)]))\n",
      "('C', OrderedDict([('1', None), ('2', None), ('3', None), ('4', None), ('5', None)]))\n",
      "('D', OrderedDict([('1', None), ('2', None), ('3', None), ('4', None), ('5', None)]))\n",
      "('E', OrderedDict([('1', None), ('2', None), ('3', None), ('4', None), ('5', None)]))\n",
      "('F', OrderedDict([('1', None), ('2', None), ('3', None), ('4', None), ('5', None)]))\n"
     ]
    }
   ],
   "source": [
    "for coluna in patio._pilhas['0001']._pilha.items():\n",
    "    print(coluna)"
   ]
  },
  {
   "cell_type": "code",
   "execution_count": 6,
   "metadata": {},
   "outputs": [
    {
     "data": {
      "image/png": "[encoded data removed]",
      "text/plain": [
       "<Figure size 1080x360 with 1 Axes>"
      ]
     },
     "metadata": {
      "needs_background": "light"
     },
     "output_type": "display_data"
    }
   ],
   "source": [
    "from matplotlib.collections import PatchCollection\n",
    "from matplotlib.patches import Rectangle\n",
    "\n",
    "\n",
    "def plot_patio(patio):\n",
    "    fig = plt.figure(figsize=(15, 5))\n",
    "    ax = plt.subplot(111)\n",
    "    passo_x = 1 / len(COLUNAS)\n",
    "    passo_y = .8 / len(ALTURAS)\n",
    "    boxes = []\n",
    "    for c, coluna in enumerate(patio._pilhas['0001']._pilha.items()):\n",
    "        rect = Rectangle((passo_x * c, 0), passo_x*.9, .8)\n",
    "        boxes.append(rect)\n",
    "        posicao_x = passo_x * c\n",
    "        ax.text(passo_x * c + (passo_x /3), .9, coluna[0], fontsize=20)\n",
    "        for altura, container in coluna[1].items():\n",
    "            if container is not None:\n",
    "                posicao_y = passo_y * (int(altura) - 1) + .01\n",
    "                ax.text(posicao_x + .02, posicao_y + .02,\n",
    "                        container, fontsize=14)\n",
    "                rect = Rectangle((posicao_x + .01,\n",
    "                                  posicao_y),\n",
    "                                 passo_x * .7, .12)\n",
    "\n",
    "                boxes.append(rect)\n",
    "\n",
    "    pc = PatchCollection(boxes, edgecolor='r')\n",
    "    ax.add_collection(pc)\n",
    "plot_patio(patio)"
   ]
  },
  {
   "cell_type": "code",
   "execution_count": 7,
   "metadata": {},
   "outputs": [
    {
     "data": {
      "image/png": "[encoded data removed]",
      "text/plain": [
       "<Figure size 1080x360 with 1 Axes>"
      ]
     },
     "metadata": {
      "needs_background": "light"
     },
     "output_type": "display_data"
    }
   ],
   "source": [
    "patio = Patio()\n",
    "gerente = GerenteRemocao(patio)\n",
    "for i in range(21):\n",
    "    gerente.add_container(containers_transito[i])\n",
    "plot_patio(patio)"
   ]
  },
  {
   "cell_type": "code",
   "execution_count": 54,
   "metadata": {},
   "outputs": [
    {
     "ename": "TypeError",
     "evalue": "'Container' object cannot be interpreted as an integer",
     "output_type": "error",
     "traceback": [
      "\u001b[0;31m---------------------------------------------------------------------------\u001b[0m",
      "\u001b[0;31mTypeError\u001b[0m                                 Traceback (most recent call last)",
      "\u001b[0;32m<ipython-input-54-351a24f3fa82>\u001b[0m in \u001b[0;36m<module>\u001b[0;34m\u001b[0m\n\u001b[1;32m      3\u001b[0m \u001b[0;32mfor\u001b[0m \u001b[0mdia\u001b[0m\u001b[0;34m,\u001b[0m \u001b[0mcontainers\u001b[0m \u001b[0;32min\u001b[0m \u001b[0mcontainers_agendados\u001b[0m\u001b[0;34m.\u001b[0m\u001b[0mitems\u001b[0m\u001b[0;34m(\u001b[0m\u001b[0;34m)\u001b[0m\u001b[0;34m:\u001b[0m\u001b[0;34m\u001b[0m\u001b[0;34m\u001b[0m\u001b[0m\n\u001b[1;32m      4\u001b[0m     \u001b[0;32mfor\u001b[0m \u001b[0mc\u001b[0m \u001b[0;32min\u001b[0m \u001b[0mcontainers\u001b[0m\u001b[0;34m:\u001b[0m\u001b[0;34m\u001b[0m\u001b[0;34m\u001b[0m\u001b[0m\n\u001b[0;32m----> 5\u001b[0;31m         \u001b[0mcontainers_transito\u001b[0m\u001b[0;34m.\u001b[0m\u001b[0mpop\u001b[0m\u001b[0;34m(\u001b[0m\u001b[0mc\u001b[0m\u001b[0;34m)\u001b[0m\u001b[0;34m\u001b[0m\u001b[0;34m\u001b[0m\u001b[0m\n\u001b[0m\u001b[1;32m      6\u001b[0m         \u001b[0mpilha\u001b[0m \u001b[0;34m=\u001b[0m \u001b[0mgerente\u001b[0m\u001b[0;34m.\u001b[0m\u001b[0mpilha_mesmo_tempo\u001b[0m\u001b[0;34m\u001b[0m\u001b[0;34m\u001b[0m\u001b[0m\n\u001b[1;32m      7\u001b[0m         \u001b[0mgerente\u001b[0m\u001b[0;34m.\u001b[0m\u001b[0madd_container\u001b[0m\u001b[0;34m(\u001b[0m\u001b[0mc\u001b[0m\u001b[0;34m,\u001b[0m \u001b[0mpilha\u001b[0m\u001b[0;34m.\u001b[0m\u001b[0m_nome\u001b[0m\u001b[0;34m)\u001b[0m\u001b[0;34m\u001b[0m\u001b[0;34m\u001b[0m\u001b[0m\n",
      "\u001b[0;31mTypeError\u001b[0m: 'Container' object cannot be interpreted as an integer"
     ]
    }
   ],
   "source": [
    "patio = Patio()\n",
    "gerente = GerenteRemocao(patio)\n",
    "for dia, containers in containers_agendados.items():\n",
    "    for c in containers:\n",
    "        containers_transito.pop(c)\n",
    "        pilha = gerente.pilha_mesmo_tempo\n",
    "        gerente.add_container(c, pilha._nome)\n",
    "plot_patio(patio)       "
   ]
  },
  {
   "cell_type": "code",
   "execution_count": 53,
   "metadata": {},
   "outputs": [
    {
     "data": {
      "text/plain": [
       "OrderedDict([('0001', <classes.patio.Pilha at 0x7f11a2aebdd8>),\n",
       "             ('0002', <classes.patio.Pilha at 0x7f11a162fb00>),\n",
       "             ('0003', <classes.patio.Pilha at 0x7f11a4c8c320>),\n",
       "             ('0004', <classes.patio.Pilha at 0x7f11a16651d0>),\n",
       "             ('0005', <classes.patio.Pilha at 0x7f11a2b0eef0>),\n",
       "             ('0006', <classes.patio.Pilha at 0x7f11a4b8e978>),\n",
       "             ('0007', <classes.patio.Pilha at 0x7f11a2b4d358>),\n",
       "             ('0008', <classes.patio.Pilha at 0x7f11a2a5ac50>),\n",
       "             ('0009', <classes.patio.Pilha at 0x7f11a2a5ae48>),\n",
       "             ('0010', <classes.patio.Pilha at 0x7f11a23ce7b8>),\n",
       "             ('0011', <classes.patio.Pilha at 0x7f11a2645b38>),\n",
       "             ('0012', <classes.patio.Pilha at 0x7f11a263f9b0>),\n",
       "             ('0013', <classes.patio.Pilha at 0x7f11a238f7b8>),\n",
       "             ('0014', <classes.patio.Pilha at 0x7f11a24177b8>),\n",
       "             ('0015', <classes.patio.Pilha at 0x7f11a4c1fc18>),\n",
       "             ('0016', <classes.patio.Pilha at 0x7f11a2aa7160>),\n",
       "             ('0017', <classes.patio.Pilha at 0x7f11a23a32b0>),\n",
       "             ('0018', <classes.patio.Pilha at 0x7f11a2398438>),\n",
       "             ('0019', <classes.patio.Pilha at 0x7f11a2398dd8>),\n",
       "             ('0020', <classes.patio.Pilha at 0x7f11a23924a8>),\n",
       "             ('0021', <classes.patio.Pilha at 0x7f11a22522b0>),\n",
       "             ('0022', <classes.patio.Pilha at 0x7f11a2252fd0>),\n",
       "             ('0023', <classes.patio.Pilha at 0x7f11a2081898>),\n",
       "             ('0024', <classes.patio.Pilha at 0x7f11a23c5748>),\n",
       "             ('0025', <classes.patio.Pilha at 0x7f11a2aac5f8>),\n",
       "             ('0026', <classes.patio.Pilha at 0x7f11a4b6fe10>),\n",
       "             ('0027', <classes.patio.Pilha at 0x7f11a4b6f5f8>),\n",
       "             ('0028', <classes.patio.Pilha at 0x7f11a2880d30>),\n",
       "             ('0029', <classes.patio.Pilha at 0x7f11a23ac518>),\n",
       "             ('0030', <classes.patio.Pilha at 0x7f11a23ac390>),\n",
       "             ('0031', <classes.patio.Pilha at 0x7f11a23bd5c0>),\n",
       "             ('0032', <classes.patio.Pilha at 0x7f11a23b3c50>),\n",
       "             ('0033', <classes.patio.Pilha at 0x7f11a23b3860>),\n",
       "             ('0034', <classes.patio.Pilha at 0x7f11a23ab0b8>),\n",
       "             ('0035', <classes.patio.Pilha at 0x7f11a2642278>),\n",
       "             ('0036', <classes.patio.Pilha at 0x7f11a263c2b0>),\n",
       "             ('0037', <classes.patio.Pilha at 0x7f11a263ce80>),\n",
       "             ('0038', <classes.patio.Pilha at 0x7f11a266d208>),\n",
       "             ('0039', <classes.patio.Pilha at 0x7f11a263da58>),\n",
       "             ('0040', <classes.patio.Pilha at 0x7f11a2632160>),\n",
       "             ('0041', <classes.patio.Pilha at 0x7f11a2632dd8>),\n",
       "             ('0042', <classes.patio.Pilha at 0x7f11a2630860>),\n",
       "             ('0043', <classes.patio.Pilha at 0x7f11a23ae1d0>),\n",
       "             ('0044', <classes.patio.Pilha at 0x7f11a2b05eb8>),\n",
       "             ('0045', <classes.patio.Pilha at 0x7f11a2b05b00>),\n",
       "             ('0046', <classes.patio.Pilha at 0x7f11a271afd0>),\n",
       "             ('0047', <classes.patio.Pilha at 0x7f11a299e470>),\n",
       "             ('0048', <classes.patio.Pilha at 0x7f11a2a20320>),\n",
       "             ('0049', <classes.patio.Pilha at 0x7f11a2a20d30>),\n",
       "             ('0050', <classes.patio.Pilha at 0x7f11a2a75048>),\n",
       "             ('0051', <classes.patio.Pilha at 0x7f11a2a75eb8>),\n",
       "             ('0052', <classes.patio.Pilha at 0x7f11a205acf8>),\n",
       "             ('0053', <classes.patio.Pilha at 0x7f11a21c0438>),\n",
       "             ('0054', <classes.patio.Pilha at 0x7f11a21c0a90>),\n",
       "             ('0055', <classes.patio.Pilha at 0x7f11a2445dd8>),\n",
       "             ('0056', <classes.patio.Pilha at 0x7f11a2717048>),\n",
       "             ('0057', <classes.patio.Pilha at 0x7f11a21c3d68>),\n",
       "             ('0058', <classes.patio.Pilha at 0x7f11a2a4fc50>),\n",
       "             ('0059', <classes.patio.Pilha at 0x7f11a2a4fef0>),\n",
       "             ('0060', <classes.patio.Pilha at 0x7f11a5025908>),\n",
       "             ('0061', <classes.patio.Pilha at 0x7f11a271fcf8>),\n",
       "             ('0062', <classes.patio.Pilha at 0x7f11a2a8df60>),\n",
       "             ('0063', <classes.patio.Pilha at 0x7f11a2a3e7b8>),\n",
       "             ('0064', <classes.patio.Pilha at 0x7f11a2a3e1d0>),\n",
       "             ('0065', <classes.patio.Pilha at 0x7f11a21a1518>),\n",
       "             ('0066', <classes.patio.Pilha at 0x7f11a2a83cc0>),\n",
       "             ('0067', <classes.patio.Pilha at 0x7f11a2a83898>),\n",
       "             ('0068', <classes.patio.Pilha at 0x7f11a2a762e8>),\n",
       "             ('0069', <classes.patio.Pilha at 0x7f11a2a76160>),\n",
       "             ('0070', <classes.patio.Pilha at 0x7f11a2a6ff98>),\n",
       "             ('0071', <classes.patio.Pilha at 0x7f11a2a79780>),\n",
       "             ('0072', <classes.patio.Pilha at 0x7f11a2a794e0>),\n",
       "             ('0073', <classes.patio.Pilha at 0x7f11a2a6d588>),\n",
       "             ('0074', <classes.patio.Pilha at 0x7f11a2a6d2b0>),\n",
       "             ('0075', <classes.patio.Pilha at 0x7f11a2a89358>),\n",
       "             ('0076', <classes.patio.Pilha at 0x7f11a1b9a1d0>),\n",
       "             ('0077', <classes.patio.Pilha at 0x7f11a263bb00>),\n",
       "             ('0078', <classes.patio.Pilha at 0x7f11a219d588>),\n",
       "             ('0079', <classes.patio.Pilha at 0x7f11a219d668>),\n",
       "             ('0080', <classes.patio.Pilha at 0x7f11a21b6080>),\n",
       "             ('0081', <classes.patio.Pilha at 0x7f11a1be1240>),\n",
       "             ('0082', <classes.patio.Pilha at 0x7f11a1be17f0>),\n",
       "             ('0083', <classes.patio.Pilha at 0x7f11a25c7208>),\n",
       "             ('0084', <classes.patio.Pilha at 0x7f11a25c7c18>),\n",
       "             ('0085', <classes.patio.Pilha at 0x7f11a25a33c8>),\n",
       "             ('0086', <classes.patio.Pilha at 0x7f11a25a3ac8>),\n",
       "             ('0087', <classes.patio.Pilha at 0x7f11a25aa208>),\n",
       "             ('0088', <classes.patio.Pilha at 0x7f11a25aa908>),\n",
       "             ('0089', <classes.patio.Pilha at 0x7f11a25c3358>),\n",
       "             ('0090', <classes.patio.Pilha at 0x7f11a25c3390>),\n",
       "             ('0091', <classes.patio.Pilha at 0x7f11a25c3d30>),\n",
       "             ('0092', <classes.patio.Pilha at 0x7f11a25bd208>),\n",
       "             ('0093', <classes.patio.Pilha at 0x7f11a25bdac8>),\n",
       "             ('0094', <classes.patio.Pilha at 0x7f11a25c92b0>),\n",
       "             ('0095', <classes.patio.Pilha at 0x7f11a25c9a20>),\n",
       "             ('0096', <classes.patio.Pilha at 0x7f11a1876908>),\n",
       "             ('0097', <classes.patio.Pilha at 0x7f11a18766a0>),\n",
       "             ('0098', <classes.patio.Pilha at 0x7f11a18666d8>),\n",
       "             ('0099', <classes.patio.Pilha at 0x7f11a1866908>),\n",
       "             ('0100', <classes.patio.Pilha at 0x7f11a18663c8>),\n",
       "             ('0101', <classes.patio.Pilha at 0x7f11a1873160>),\n",
       "             ('0102', <classes.patio.Pilha at 0x7f11a1873b70>),\n",
       "             ('0103', <classes.patio.Pilha at 0x7f11a18857b8>),\n",
       "             ('0104', <classes.patio.Pilha at 0x7f11a1885940>),\n",
       "             ('0105', <classes.patio.Pilha at 0x7f11a188a908>),\n",
       "             ('0106', <classes.patio.Pilha at 0x7f11a188a710>),\n",
       "             ('0107', <classes.patio.Pilha at 0x7f11a186e048>),\n",
       "             ('0108', <classes.patio.Pilha at 0x7f11a186e748>),\n",
       "             ('0109', <classes.patio.Pilha at 0x7f11a186ee48>),\n",
       "             ('0110', <classes.patio.Pilha at 0x7f11a1879198>),\n",
       "             ('0111', <classes.patio.Pilha at 0x7f11a1879ba8>),\n",
       "             ('0112', <classes.patio.Pilha at 0x7f11a2601240>),\n",
       "             ('0113', <classes.patio.Pilha at 0x7f11a2601a20>),\n",
       "             ('0114', <classes.patio.Pilha at 0x7f11a2607208>),\n",
       "             ('0115', <classes.patio.Pilha at 0x7f11a2607908>),\n",
       "             ('0116', <classes.patio.Pilha at 0x7f11a25d3048>),\n",
       "             ('0117', <classes.patio.Pilha at 0x7f11a25d3748>),\n",
       "             ('0118', <classes.patio.Pilha at 0x7f11a25d3e48>),\n",
       "             ('0119', <classes.patio.Pilha at 0x7f11a25e3128>),\n",
       "             ('0120', <classes.patio.Pilha at 0x7f11a25e3ac8>),\n",
       "             ('0121', <classes.patio.Pilha at 0x7f11a25ff3c8>),\n",
       "             ('0122', <classes.patio.Pilha at 0x7f11a25ffac8>),\n",
       "             ('0123', <classes.patio.Pilha at 0x7f11a25d6128>),\n",
       "             ('0124', <classes.patio.Pilha at 0x7f11a25d63c8>),\n",
       "             ('0125', <classes.patio.Pilha at 0x7f11a25d0588>),\n",
       "             ('0126', <classes.patio.Pilha at 0x7f11a25d0400>),\n",
       "             ('0127', <classes.patio.Pilha at 0x7f11a25d0da0>),\n",
       "             ('0128', <classes.patio.Pilha at 0x7f11a25f7320>),\n",
       "             ('0129', <classes.patio.Pilha at 0x7f11a25f7a20>),\n",
       "             ('0130', <classes.patio.Pilha at 0x7f11a2b353c8>),\n",
       "             ('0131', <classes.patio.Pilha at 0x7f11a2b35ac8>),\n",
       "             ('0132', <classes.patio.Pilha at 0x7f11a2b4bb00>),\n",
       "             ('0133', <classes.patio.Pilha at 0x7f11a2b4b6d8>),\n",
       "             ('0134', <classes.patio.Pilha at 0x7f11a2b48438>),\n",
       "             ('0135', <classes.patio.Pilha at 0x7f11a2b48630>),\n",
       "             ('0136', <classes.patio.Pilha at 0x7f11a2b48e80>),\n",
       "             ('0137', <classes.patio.Pilha at 0x7f11a2b45160>),\n",
       "             ('0138', <classes.patio.Pilha at 0x7f11a2b45b00>),\n",
       "             ('0139', <classes.patio.Pilha at 0x7f11a2b42048>),\n",
       "             ('0140', <classes.patio.Pilha at 0x7f11a2b42908>),\n",
       "             ('0141', <classes.patio.Pilha at 0x7f11a2b41748>),\n",
       "             ('0142', <classes.patio.Pilha at 0x7f11a2b41668>),\n",
       "             ('0143', <classes.patio.Pilha at 0x7f11a2b16e48>),\n",
       "             ('0144', <classes.patio.Pilha at 0x7f11a2b16550>),\n",
       "             ('0145', <classes.patio.Pilha at 0x7f11a2b16e10>),\n",
       "             ('0146', <classes.patio.Pilha at 0x7f11a24f9588>)])"
      ]
     },
     "execution_count": 53,
     "metadata": {},
     "output_type": "execute_result"
    }
   ],
   "source": [
    "gerente._patio._pilhas"
   ]
  },
  {
   "cell_type": "code",
   "execution_count": null,
   "metadata": {},
   "outputs": [],
   "source": []
  }
 ],
 "metadata": {
  "kernelspec": {
   "display_name": "busca-venv",
   "language": "python",
   "name": "busca-venv"
  },
  "language_info": {
   "codemirror_mode": {
    "name": "ipython",
    "version": 3
   },
   "file_extension": ".py",
   "mimetype": "text/x-python",
   "name": "python",
   "nbconvert_exporter": "python",
   "pygments_lexer": "ipython3",
   "version": "3.6.8"
  }
 },
 "nbformat": 4,
 "nbformat_minor": 1
}
