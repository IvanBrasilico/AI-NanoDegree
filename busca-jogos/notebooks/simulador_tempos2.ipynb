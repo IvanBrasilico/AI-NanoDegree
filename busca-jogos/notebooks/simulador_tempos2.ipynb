{
 "cells": [
  {
   "cell_type": "code",
   "execution_count": 1,
   "metadata": {},
   "outputs": [],
   "source": [
    "%load_ext autoreload\n",
    "%autoreload 2\n",
    "from copy import copy, deepcopy\n",
    "from collections import defaultdict\n",
    "from random import sample, randint\n",
    "from busca.classes import ALTURAS, COLUNAS\n",
    "from busca.classes.gerente import GerenteRemocao\n",
    "from busca.classes.patio import Container, Pilha, Patio\n",
    "\n",
    "from busca.utils import gera_agendamento_containers, gera_containers_transito\n",
    "from busca.utils.simulador import Simulador\n"
   ]
  },
  {
   "cell_type": "code",
   "execution_count": 2,
   "metadata": {},
   "outputs": [
    {
     "ename": "NameError",
     "evalue": "name 'containers_transito' is not defined",
     "output_type": "error",
     "traceback": [
      "\u001b[0;31m---------------------------------------------------------------------------\u001b[0m",
      "\u001b[0;31mNameError\u001b[0m                                 Traceback (most recent call last)",
      "\u001b[0;32m<ipython-input-2-d1e9d85642eb>\u001b[0m in \u001b[0;36m<module>\u001b[0;34m\u001b[0m\n\u001b[1;32m     13\u001b[0m                 \u001b[0mlsimulador\u001b[0m\u001b[0;34m.\u001b[0m\u001b[0mturns\u001b[0m \u001b[0;34m=\u001b[0m \u001b[0mturns\u001b[0m\u001b[0;34m\u001b[0m\u001b[0;34m\u001b[0m\u001b[0m\n\u001b[1;32m     14\u001b[0m                 \u001b[0mlsimulador\u001b[0m\u001b[0;34m.\u001b[0m\u001b[0mtamanho_fila\u001b[0m \u001b[0;34m=\u001b[0m \u001b[0mtamanho_fila\u001b[0m\u001b[0;34m\u001b[0m\u001b[0;34m\u001b[0m\u001b[0m\n\u001b[0;32m---> 15\u001b[0;31m                 \u001b[0mprint\u001b[0m\u001b[0;34m(\u001b[0m\u001b[0mlen\u001b[0m\u001b[0;34m(\u001b[0m\u001b[0mcontainers_transito\u001b[0m\u001b[0;34m)\u001b[0m\u001b[0;34m,\u001b[0m \u001b[0mlen\u001b[0m\u001b[0;34m(\u001b[0m\u001b[0mpre_load\u001b[0m\u001b[0;34m)\u001b[0m\u001b[0;34m)\u001b[0m\u001b[0;34m\u001b[0m\u001b[0;34m\u001b[0m\u001b[0m\n\u001b[0m\u001b[1;32m     16\u001b[0m                 \u001b[0mprint\u001b[0m\u001b[0;34m(\u001b[0m\u001b[0;34m'Montando gerente com pre-load %s'\u001b[0m \u001b[0;34m%\u001b[0m \u001b[0mlen\u001b[0m\u001b[0;34m(\u001b[0m\u001b[0mpre_load\u001b[0m\u001b[0;34m)\u001b[0m\u001b[0;34m)\u001b[0m\u001b[0;34m\u001b[0m\u001b[0;34m\u001b[0m\u001b[0m\n\u001b[1;32m     17\u001b[0m                 \u001b[0mmedia\u001b[0m\u001b[0;34m,\u001b[0m \u001b[0mmedia_ponderada\u001b[0m \u001b[0;34m=\u001b[0m \u001b[0mlsimulador\u001b[0m\u001b[0;34m.\u001b[0m\u001b[0mmonte_carlo\u001b[0m\u001b[0;34m(\u001b[0m\u001b[0mmode_in\u001b[0m\u001b[0;34m=\u001b[0m\u001b[0mmode_in\u001b[0m\u001b[0;34m,\u001b[0m \u001b[0mturns\u001b[0m\u001b[0;34m=\u001b[0m\u001b[0mturns\u001b[0m\u001b[0;34m,\u001b[0m \u001b[0mtamanho_fila\u001b[0m\u001b[0;34m=\u001b[0m\u001b[0mtamanho_fila\u001b[0m\u001b[0;34m)\u001b[0m\u001b[0;34m\u001b[0m\u001b[0;34m\u001b[0m\u001b[0m\n",
      "\u001b[0;31mNameError\u001b[0m: name 'containers_transito' is not defined"
     ]
    }
   ],
   "source": [
    "\n",
    "\n",
    "\n",
    "results = defaultdict(list)\n",
    "for perc in [.4]:\n",
    "    simulador = Simulador()\n",
    "    simulador.generate_env()\n",
    "    for mode_in in ['nenhum', 'like']:\n",
    "        for turns in [200]:\n",
    "            for tamanho_fila in [20, 30, 50]:\n",
    "                lsimulador = deepcopy(simulador)\n",
    "                lsimulador.initialize_gerente(mode=mode_in)\n",
    "                lsimulador.turns = turns\n",
    "                lsimulador.tamanho_fila = tamanho_fila\n",
    "                print(len(containers_transito), len(pre_load))\n",
    "                print('Montando gerente com pre-load %s' % len(pre_load))\n",
    "                media, media_ponderada = lsimulador.monte_carlo(mode_in=mode_in, turns=turns, tamanho_fila=tamanho_fila)\n",
    "                results[mode_in].append((turns, tamanho_fila, media, media_ponderada))"
   ]
  },
  {
   "cell_type": "code",
   "execution_count": null,
   "metadata": {},
   "outputs": [],
   "source": [
    "print(results)"
   ]
  },
  {
   "cell_type": "code",
   "execution_count": null,
   "metadata": {},
   "outputs": [],
   "source": [
    "y_none = [x[3] for x in results['nenhum']]\n",
    "y_like = [x[3] for x in results['like']]\n",
    "x = [x[1] for x in results['like']]"
   ]
  },
  {
   "cell_type": "code",
   "execution_count": null,
   "metadata": {},
   "outputs": [],
   "source": [
    "\n",
    "import matplotlib.pyplot as plt\n",
    "\n",
    "fig = plt.figure(figsize=(10, 6))\n",
    "plt.plot(x, y_none, label='None')\n",
    "plt.plot(x, y_like, label='like')\n",
    "plt.legend()\n",
    "plt.xlabel('Media ponderada remocoes')\n",
    "plt.ylabel('Tamanho da fila utilizada')\n"
   ]
  },
  {
   "cell_type": "code",
   "execution_count": null,
   "metadata": {},
   "outputs": [],
   "source": []
  }
 ],
 "metadata": {
  "kernelspec": {
   "display_name": "busca-venv",
   "language": "python",
   "name": "busca-venv"
  },
  "language_info": {
   "codemirror_mode": {
    "name": "ipython",
    "version": 3
   },
   "file_extension": ".py",
   "mimetype": "text/x-python",
   "name": "python",
   "nbconvert_exporter": "python",
   "pygments_lexer": "ipython3",
   "version": "3.6.8"
  }
 },
 "nbformat": 4,
 "nbformat_minor": 2
}
