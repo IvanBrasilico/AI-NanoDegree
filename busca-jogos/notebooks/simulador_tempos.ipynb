{
 "cells": [
  {
   "cell_type": "code",
   "execution_count": null,
   "metadata": {},
   "outputs": [],
   "source": [
    "%load_ext autoreload\n",
    "%autoreload 2\n",
    "import matplotlib.pyplot as plt\n",
    "import numpy as np\n",
    "from collections import defaultdict\n",
    "from matplotlib.collections import PatchCollection\n",
    "from matplotlib.patches import Rectangle\n",
    "from random import randint\n",
    "\n",
    "from busca.classes import ALTURAS, COLUNAS\n",
    "from busca.classes.gerente import GerenteRemocao\n",
    "from busca.classes.patio import Container, Pilha, Patio\n",
    "\n",
    "NCONTAINERS = 20000"
   ]
  }
 ],
 "metadata": {},
 "nbformat": 4,
 "nbformat_minor": 2
}
